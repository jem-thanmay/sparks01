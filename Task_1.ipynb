{
  "nbformat": 4,
  "nbformat_minor": 0,
  "metadata": {
    "colab": {
      "name": "Task_1.ipynb",
      "provenance": [],
      "authorship_tag": "ABX9TyM9p6Sgwq41yhAZpub3ppl0",
      "include_colab_link": true
    },
    "kernelspec": {
      "name": "python3",
      "display_name": "Python 3"
    },
    "language_info": {
      "name": "python"
    }
  },
  "cells": [
    {
      "cell_type": "markdown",
      "metadata": {
        "id": "view-in-github",
        "colab_type": "text"
      },
      "source": [
        "<a href=\"https://colab.research.google.com/github/jem-thanmay/sparks01/blob/main/Task_1.ipynb\" target=\"_parent\"><img src=\"https://colab.research.google.com/assets/colab-badge.svg\" alt=\"Open In Colab\"/></a>"
      ]
    },
    {
      "cell_type": "markdown",
      "metadata": {
        "id": "M1Zy6fH0l4E6"
      },
      "source": [
        "**Topic : Data Science & Business Analytics Tasks**\n",
        "\n",
        "***TASK 1*** **-THANMAY JEMBIGE**\n",
        "\n",
        "Prediction using Supervised ML\n",
        "(Level - Beginner) \n",
        "\n",
        "● Predict the percentage of an student based on the no. of study hours.\n",
        "\n",
        "● This is a simple linear regression task as it involves just 2 variables.\n",
        "\n",
        "● You can use R, Python, SAS Enterprise Miner or any other tool\n",
        "\n",
        "● Data can be found at http://bit.ly/w-data\n",
        "\n",
        "● What will be predicted score if a student studies for 9.25 hours/ day?"
      ]
    },
    {
      "cell_type": "markdown",
      "metadata": {
        "id": "omZTujoBmY02"
      },
      "source": [
        "**REGRESSION**\n",
        "\n",
        "What is Regression?\n",
        "\n",
        "Regression model describes the relationship betweenvariables by fitting a line to the observed data. Linear Regression models use a straight line, while Logistic Regression models use a curved line. \n",
        "Regressio alows you to estimate how a dependent varible changes as the independent variables change."
      ]
    },
    {
      "cell_type": "markdown",
      "metadata": {
        "id": "O2vAeuyZnBFl"
      },
      "source": [
        "**SIMPLE LINEAR REGRESSION**\n",
        "\n",
        "Simple Linear Regression is a statistical method that allows us to summarize and study relationships between two continuous(quantitative) variables.\n"
      ]
    },
    {
      "cell_type": "markdown",
      "metadata": {
        "id": "rHlyzqlDn2iY"
      },
      "source": [
        "**SUPERVISED LEARNING**\n",
        "\n",
        "Its the Machine Learning task of learning a function that maps an input to an output based on example input-output pairs. It infers a function from labeled training data consisting of a set of training examples."
      ]
    },
    {
      "cell_type": "markdown",
      "metadata": {
        "id": "t7ByT5Pnob1o"
      },
      "source": [
        "**TASK:**\n",
        "\n",
        "To predict the percentage of a student based on the number of study hours using supervised and simple linear regression.\n",
        "\n"
      ]
    },
    {
      "cell_type": "markdown",
      "metadata": {
        "id": "YrycNIK5os7Y"
      },
      "source": [
        "***Importing the required libraries.***"
      ]
    },
    {
      "cell_type": "code",
      "metadata": {
        "id": "kR9Kg_eQl2ZM"
      },
      "source": [
        "import numpy as np\n",
        "import pandas as pd\n",
        "import seaborn as sb\n",
        "import matplotlib.pyplot as plt\n",
        "\n",
        "%matplotlib inline"
      ],
      "execution_count": 1,
      "outputs": []
    },
    {
      "cell_type": "code",
      "metadata": {
        "colab": {
          "base_uri": "https://localhost:8080/",
          "height": 238
        },
        "id": "R1uOLaoOpML6",
        "outputId": "0e971e1f-27d2-4ab9-8ee5-2a1fedba3921"
      },
      "source": [
        " # getting the data from the given dataset link\n",
        "\n",
        " data = pd.read_csv(\"/content/student_scores - student_scores.csv\")\n",
        " print(\"The data has been loaded\")\n",
        " print(\"The shape of the DataFrame is {}\".format(data.shape))\n",
        " data.head()"
      ],
      "execution_count": 2,
      "outputs": [
        {
          "output_type": "stream",
          "text": [
            "The data has been loaded\n",
            "The shape of the DataFrame is (25, 2)\n"
          ],
          "name": "stdout"
        },
        {
          "output_type": "execute_result",
          "data": {
            "text/html": [
              "<div>\n",
              "<style scoped>\n",
              "    .dataframe tbody tr th:only-of-type {\n",
              "        vertical-align: middle;\n",
              "    }\n",
              "\n",
              "    .dataframe tbody tr th {\n",
              "        vertical-align: top;\n",
              "    }\n",
              "\n",
              "    .dataframe thead th {\n",
              "        text-align: right;\n",
              "    }\n",
              "</style>\n",
              "<table border=\"1\" class=\"dataframe\">\n",
              "  <thead>\n",
              "    <tr style=\"text-align: right;\">\n",
              "      <th></th>\n",
              "      <th>Hours</th>\n",
              "      <th>Scores</th>\n",
              "    </tr>\n",
              "  </thead>\n",
              "  <tbody>\n",
              "    <tr>\n",
              "      <th>0</th>\n",
              "      <td>2.5</td>\n",
              "      <td>21</td>\n",
              "    </tr>\n",
              "    <tr>\n",
              "      <th>1</th>\n",
              "      <td>5.1</td>\n",
              "      <td>47</td>\n",
              "    </tr>\n",
              "    <tr>\n",
              "      <th>2</th>\n",
              "      <td>3.2</td>\n",
              "      <td>27</td>\n",
              "    </tr>\n",
              "    <tr>\n",
              "      <th>3</th>\n",
              "      <td>8.5</td>\n",
              "      <td>75</td>\n",
              "    </tr>\n",
              "    <tr>\n",
              "      <th>4</th>\n",
              "      <td>3.5</td>\n",
              "      <td>30</td>\n",
              "    </tr>\n",
              "  </tbody>\n",
              "</table>\n",
              "</div>"
            ],
            "text/plain": [
              "   Hours  Scores\n",
              "0    2.5      21\n",
              "1    5.1      47\n",
              "2    3.2      27\n",
              "3    8.5      75\n",
              "4    3.5      30"
            ]
          },
          "metadata": {
            "tags": []
          },
          "execution_count": 2
        }
      ]
    },
    {
      "cell_type": "code",
      "metadata": {
        "colab": {
          "base_uri": "https://localhost:8080/"
        },
        "id": "88z0hB6H2G73",
        "outputId": "13b1d018-a3f2-4031-ffa0-f46f92808556"
      },
      "source": [
        "data.columns"
      ],
      "execution_count": 3,
      "outputs": [
        {
          "output_type": "execute_result",
          "data": {
            "text/plain": [
              "Index(['Hours', 'Scores'], dtype='object')"
            ]
          },
          "metadata": {
            "tags": []
          },
          "execution_count": 3
        }
      ]
    },
    {
      "cell_type": "code",
      "metadata": {
        "colab": {
          "base_uri": "https://localhost:8080/"
        },
        "id": "MfwnDjlX2fKM",
        "outputId": "8aa02125-0fcc-4806-8f0b-3ed632301237"
      },
      "source": [
        "#displaying the information using data.info()\n",
        "data.info()"
      ],
      "execution_count": 4,
      "outputs": [
        {
          "output_type": "stream",
          "text": [
            "<class 'pandas.core.frame.DataFrame'>\n",
            "RangeIndex: 25 entries, 0 to 24\n",
            "Data columns (total 2 columns):\n",
            " #   Column  Non-Null Count  Dtype  \n",
            "---  ------  --------------  -----  \n",
            " 0   Hours   25 non-null     float64\n",
            " 1   Scores  25 non-null     int64  \n",
            "dtypes: float64(1), int64(1)\n",
            "memory usage: 528.0 bytes\n"
          ],
          "name": "stdout"
        }
      ]
    },
    {
      "cell_type": "markdown",
      "metadata": {
        "id": "ockGDkEt2qC2"
      },
      "source": [
        "Checking the Relation between hours and score using scatterplot."
      ]
    },
    {
      "cell_type": "code",
      "metadata": {
        "colab": {
          "base_uri": "https://localhost:8080/",
          "height": 295
        },
        "id": "iQgog4zt2fCD",
        "outputId": "b406db7c-2c78-423a-8153-42d4d45b1f26"
      },
      "source": [
        "#scatterplot for hours vs score\n",
        "sb.scatterplot(x=data.Hours, y=data.Scores, data=data).set_title(\"Scatter Plot - Hours of Study v Score\")\n",
        "plt.show()"
      ],
      "execution_count": 24,
      "outputs": [
        {
          "output_type": "display_data",
          "data": {
            "image/png": "[encoded data removed]",
            "text/plain": [
              "<Figure size 432x288 with 1 Axes>"
            ]
          },
          "metadata": {
            "tags": [],
            "needs_background": "light"
          }
        }
      ]
    },
    {
      "cell_type": "code",
      "metadata": {
        "colab": {
          "base_uri": "https://localhost:8080/",
          "height": 295
        },
        "id": "pzeKkIZl2e6Q",
        "outputId": "2c35f297-79b8-417a-f064-08dc28ef3a39"
      },
      "source": [
        "#regression plot for hours v score\n",
        "sb.regplot(x=data.Hours, y=data.Scores, data=data).set_title(\"Regression Plot - Hours of Study v Score\")\n",
        "plt.show()"
      ],
      "execution_count": 26,
      "outputs": [
        {
          "output_type": "display_data",
          "data": {
            "image/png": "[encoded data removed]",
            "text/plain": [
              "<Figure size 432x288 with 1 Axes>"
            ]
          },
          "metadata": {
            "tags": [],
            "needs_background": "light"
          }
        }
      ]
    },
    {
      "cell_type": "markdown",
      "metadata": {
        "id": "va5ZE8mA-PZR"
      },
      "source": [
        "We use descibe() method for calculating some statistical data like percentile, mean, std of numeric values of series or dataframe."
      ]
    },
    {
      "cell_type": "code",
      "metadata": {
        "colab": {
          "base_uri": "https://localhost:8080/",
          "height": 297
        },
        "id": "N5zDRt2I2exu",
        "outputId": "30ee4b92-57b5-4a50-d6ff-1c15c02b4a8a"
      },
      "source": [
        "data.describe()"
      ],
      "execution_count": 7,
      "outputs": [
        {
          "output_type": "execute_result",
          "data": {
            "text/html": [
              "<div>\n",
              "<style scoped>\n",
              "    .dataframe tbody tr th:only-of-type {\n",
              "        vertical-align: middle;\n",
              "    }\n",
              "\n",
              "    .dataframe tbody tr th {\n",
              "        vertical-align: top;\n",
              "    }\n",
              "\n",
              "    .dataframe thead th {\n",
              "        text-align: right;\n",
              "    }\n",
              "</style>\n",
              "<table border=\"1\" class=\"dataframe\">\n",
              "  <thead>\n",
              "    <tr style=\"text-align: right;\">\n",
              "      <th></th>\n",
              "      <th>Hours</th>\n",
              "      <th>Scores</th>\n",
              "    </tr>\n",
              "  </thead>\n",
              "  <tbody>\n",
              "    <tr>\n",
              "      <th>count</th>\n",
              "      <td>25.000000</td>\n",
              "      <td>25.000000</td>\n",
              "    </tr>\n",
              "    <tr>\n",
              "      <th>mean</th>\n",
              "      <td>5.012000</td>\n",
              "      <td>51.480000</td>\n",
              "    </tr>\n",
              "    <tr>\n",
              "      <th>std</th>\n",
              "      <td>2.525094</td>\n",
              "      <td>25.286887</td>\n",
              "    </tr>\n",
              "    <tr>\n",
              "      <th>min</th>\n",
              "      <td>1.100000</td>\n",
              "      <td>17.000000</td>\n",
              "    </tr>\n",
              "    <tr>\n",
              "      <th>25%</th>\n",
              "      <td>2.700000</td>\n",
              "      <td>30.000000</td>\n",
              "    </tr>\n",
              "    <tr>\n",
              "      <th>50%</th>\n",
              "      <td>4.800000</td>\n",
              "      <td>47.000000</td>\n",
              "    </tr>\n",
              "    <tr>\n",
              "      <th>75%</th>\n",
              "      <td>7.400000</td>\n",
              "      <td>75.000000</td>\n",
              "    </tr>\n",
              "    <tr>\n",
              "      <th>max</th>\n",
              "      <td>9.200000</td>\n",
              "      <td>95.000000</td>\n",
              "    </tr>\n",
              "  </tbody>\n",
              "</table>\n",
              "</div>"
            ],
            "text/plain": [
              "           Hours     Scores\n",
              "count  25.000000  25.000000\n",
              "mean    5.012000  51.480000\n",
              "std     2.525094  25.286887\n",
              "min     1.100000  17.000000\n",
              "25%     2.700000  30.000000\n",
              "50%     4.800000  47.000000\n",
              "75%     7.400000  75.000000\n",
              "max     9.200000  95.000000"
            ]
          },
          "metadata": {
            "tags": []
          },
          "execution_count": 7
        }
      ]
    },
    {
      "cell_type": "code",
      "metadata": {
        "colab": {
          "base_uri": "https://localhost:8080/"
        },
        "id": "ILQEqbrV2eqI",
        "outputId": "f0ef60b6-6d42-4126-d7aa-eb7f3fc4df1c"
      },
      "source": [
        "#Finding Correlation\n",
        "(data['Hours']).corr(data['Scores'])"
      ],
      "execution_count": 8,
      "outputs": [
        {
          "output_type": "execute_result",
          "data": {
            "text/plain": [
              "0.9761906560220887"
            ]
          },
          "metadata": {
            "tags": []
          },
          "execution_count": 8
        }
      ]
    },
    {
      "cell_type": "markdown",
      "metadata": {
        "id": "Jw6AmUO4A5Y9"
      },
      "source": [
        "We can see that the correlation between the two columns is almost equal to what is described as highly correlated."
      ]
    },
    {
      "cell_type": "code",
      "metadata": {
        "id": "AWvuXXBG2eg2"
      },
      "source": [
        "#To train the model\n",
        "\n",
        "#considering hours as independent and score as dependent.\n",
        "\n",
        "x = data['Hours'].to_numpy().reshape(-1,1)\n",
        "\n",
        "y = data['Scores'].to_numpy().reshape(-1,1)"
      ],
      "execution_count": 9,
      "outputs": []
    },
    {
      "cell_type": "code",
      "metadata": {
        "id": "zjbiFXP-2eXG"
      },
      "source": [
        "#use Sklearn to split the data into training and testing data.\n",
        "from sklearn.model_selection import train_test_split\n",
        "x_train , x_test, y_train, y_test = train_test_split(x, y, test_size=0.15, random_state=45)"
      ],
      "execution_count": 10,
      "outputs": []
    },
    {
      "cell_type": "markdown",
      "metadata": {
        "id": "XLAC18rfCdPZ"
      },
      "source": [
        "Data is thus divided into train and test t go further and develop the model using regression fir from scikit-learn."
      ]
    },
    {
      "cell_type": "code",
      "metadata": {
        "colab": {
          "base_uri": "https://localhost:8080/"
        },
        "id": "kv3DOvdD2eMK",
        "outputId": "87c715ab-caf0-4501-d4ca-c5d2f73d5ab9"
      },
      "source": [
        "from sklearn.linear_model import LinearRegression\n",
        "reg = LinearRegression()\n",
        "reg.fit(x_train,y_train)\n",
        "print(\"Training complete\")\n",
        "print(\"Intercept is \",reg.intercept_ , \"Coefficient is \",reg.coef_)"
      ],
      "execution_count": 12,
      "outputs": [
        {
          "output_type": "stream",
          "text": [
            "Training complete\n",
            "Intercept is  [1.32651148] Coefficient is  [[9.82716094]]\n"
          ],
          "name": "stdout"
        }
      ]
    },
    {
      "cell_type": "code",
      "metadata": {
        "id": "1MDqd-aWCa5h"
      },
      "source": [
        "line = reg.coef_ *x + reg.intercept_"
      ],
      "execution_count": 13,
      "outputs": []
    },
    {
      "cell_type": "code",
      "metadata": {
        "id": "cSMs1VxhCa3X",
        "colab": {
          "base_uri": "https://localhost:8080/",
          "height": 279
        },
        "outputId": "25b065f6-05cb-4532-83ae-8902e3d0a853"
      },
      "source": [
        "plt.scatter(x,y)\n",
        "plt.plot(x,line)\n",
        "plt.xlabel(\"X\")\n",
        "plt.ylabel(\"Y\")\n",
        "plt.show()"
      ],
      "execution_count": 15,
      "outputs": [
        {
          "output_type": "display_data",
          "data": {
            "image/png": "[encoded data removed]",
            "text/plain": [
              "<Figure size 432x288 with 1 Axes>"
            ]
          },
          "metadata": {
            "tags": [],
            "needs_background": "light"
          }
        }
      ]
    },
    {
      "cell_type": "code",
      "metadata": {
        "id": "6KCFptLpCa0u",
        "colab": {
          "base_uri": "https://localhost:8080/"
        },
        "outputId": "804fca2c-a562-41cf-bb4b-4c38cf7ebb48"
      },
      "source": [
        "#predicting the test data\n",
        "yhat = reg.predict(x_test)\n",
        "print(\"Predict\",yhat)\n",
        "print(\"Actual\",y_test)"
      ],
      "execution_count": 16,
      "outputs": [
        {
          "output_type": "stream",
          "text": [
            "Predict [[25.89441384]\n",
            " [27.85984602]\n",
            " [33.75614259]\n",
            " [76.99565075]]\n",
            "Actual [[30]\n",
            " [30]\n",
            " [42]\n",
            " [85]]\n"
          ],
          "name": "stdout"
        }
      ]
    },
    {
      "cell_type": "code",
      "metadata": {
        "id": "oZ3rv9ZKCayU",
        "colab": {
          "base_uri": "https://localhost:8080/"
        },
        "outputId": "bd1135ff-de4b-4f5d-8d2d-a10843540c13"
      },
      "source": [
        "#predicting score if a student studies for 9.25 hours a day.\n",
        "hours = np.array([9.25]).reshape(-1,1)\n",
        "pred = reg.predict(hours)\n",
        "print('No. of hours = {}' .format(hours))\n",
        "print(\"Predicted Score = {}\" .format(pred[0]))"
      ],
      "execution_count": 20,
      "outputs": [
        {
          "output_type": "stream",
          "text": [
            "No. of hours = [[9.25]]\n",
            "Predicted Score = [92.22775021]\n"
          ],
          "name": "stdout"
        }
      ]
    },
    {
      "cell_type": "markdown",
      "metadata": {
        "id": "n34Wtfo2yoNB"
      },
      "source": [
        "Efficiency of the student is **92.22%**  for number of hours equals **9.25**\n",
        "\n",
        "~92%"
      ]
    },
    {
      "cell_type": "code",
      "metadata": {
        "colab": {
          "base_uri": "https://localhost:8080/"
        },
        "id": "Nd1JQ3s5yWCs",
        "outputId": "091f9352-880e-4d7c-fabb-530f539b2bd9"
      },
      "source": [
        "#predicting score if a student studies for 11 hours a day.\n",
        "hours = np.array([11]).reshape(-1,1)\n",
        "pred = reg.predict(hours)\n",
        "print('No. of hours = {}' .format(hours))\n",
        "print(\"Predicted Score = {}\" .format(pred[0]))"
      ],
      "execution_count": 22,
      "outputs": [
        {
          "output_type": "stream",
          "text": [
            "No. of hours = [[11]]\n",
            "Predicted Score = [109.42528186]\n"
          ],
          "name": "stdout"
        }
      ]
    },
    {
      "cell_type": "markdown",
      "metadata": {
        "id": "iVbh1uMqy8eO"
      },
      "source": [
        "Efficiency of the student is **109.4%** for number of hours equals **11** \n",
        "\n",
        "~109%\n",
        "\n",
        "But this is ideal and this much efficiency is impractical."
      ]
    },
    {
      "cell_type": "code",
      "metadata": {
        "colab": {
          "base_uri": "https://localhost:8080/"
        },
        "id": "HeN30zawydLd",
        "outputId": "0d513d09-c407-4338-f57d-bb38ef4a2bcf"
      },
      "source": [
        "#predicting score if a student studies for 8 hours a day.\n",
        "hours = np.array([8]).reshape(-1,1)\n",
        "pred = reg.predict(hours)\n",
        "print('No. of hours = {}' .format(hours))\n",
        "print(\"Predicted Score = {}\" .format(pred[0]))"
      ],
      "execution_count": 23,
      "outputs": [
        {
          "output_type": "stream",
          "text": [
            "No. of hours = [[8]]\n",
            "Predicted Score = [79.94379903]\n"
          ],
          "name": "stdout"
        }
      ]
    },
    {
      "cell_type": "markdown",
      "metadata": {
        "id": "P_4queW2zRop"
      },
      "source": [
        "Efficiency is 79.9% for number of hours equals 8\n",
        "\n",
        "~80%"
      ]
    },
    {
      "cell_type": "code",
      "metadata": {
        "id": "iECgLPUUCaw2",
        "colab": {
          "base_uri": "https://localhost:8080/"
        },
        "outputId": "1d2dcc1b-ff8a-4be4-88ee-c2779f08db97"
      },
      "source": [
        "from sklearn.metrics import mean_squared_error\n",
        "from sklearn.metrics import r2_score\n",
        "print(\"The RMS value is \",mean_squared_error(y_test,yhat))\n",
        "print(\"The RMSE value is \",mean_squared_error(y_test,yhat,squared=False))\n",
        "print(\"The R2 error is \",r2_score(y_test,yhat))"
      ],
      "execution_count": 21,
      "outputs": [
        {
          "output_type": "stream",
          "text": [
            "The RMS value is  38.36672218527943\n",
            "The RMSE value is  6.194087679818508\n",
            "The R2 error is  0.925019231102422\n"
          ],
          "name": "stdout"
        }
      ]
    },
    {
      "cell_type": "markdown",
      "metadata": {
        "id": "6Cu-DCiuzdIT"
      },
      "source": [
        "**CONCLUSION:**\n",
        "\n",
        "\n",
        "*  ***We see that the number of hours of study is directly proportional to the scores.***\n",
        "*   ***When the hours of study is more, the scores achieved is also higher***\n",
        "\n",
        "\n",
        "*   ***Hence with respect to this analysis, we can conclude that the ideal amount of hours would be 11 but wouldn't be practical.***\n",
        "*   ***Therefore the right amount of hours of study WRT this, is clearly 9.25 hours.***\n",
        "\n",
        "\n",
        "\n"
      ]
    },
    {
      "cell_type": "code",
      "metadata": {
        "id": "9wxOj0Qz2dxm"
      },
      "source": [
        ""
      ],
      "execution_count": null,
      "outputs": []
    },
    {
      "cell_type": "markdown",
      "metadata": {
        "id": "waa6-rrTmYKI"
      },
      "source": [
        ""
      ]
    },
    {
      "cell_type": "markdown",
      "metadata": {
        "id": "z1CLzRh8l3HE"
      },
      "source": [
        ""
      ]
    }
  ]
}